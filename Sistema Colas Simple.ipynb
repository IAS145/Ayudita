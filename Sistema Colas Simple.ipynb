{
 "cells": [
  {
   "cell_type": "markdown",
   "metadata": {},
   "source": [
    "# Sistema Colas Simple"
   ]
  },
  {
   "cell_type": "markdown",
   "metadata": {},
   "source": [
    "Para D/D/1, λ=4 y μ=3. En t=2 ¿Cuantos clientes salen del sistema y cuantos quedan en cola?"
   ]
  },
  {
   "cell_type": "code",
   "execution_count": 5,
   "metadata": {
    "collapsed": false
   },
   "outputs": [
    {
     "name": "stdout",
     "output_type": "stream",
     "text": [
      "Tasa de llegada = 4\n",
      "Tasa de servicio = 3\n",
      "Intervalo De Tiempo = 60\n",
      "Iteraciones = 2\n",
      "\n",
      "INFORMACION SIMULADA\n",
      "Iteracion\tLlegadas\tServicio\tCola\t\tSistema\t\tSalidas\n",
      "[ 0 ]\t\t4 \t\t3 \t\t0 \t\t4 \t\t0\n",
      "[ 1 ]\t\t4 \t\t3 \t\t1 \t\t5 \t\t3\n",
      "[ 2 ]\t\t4 \t\t3 \t\t2 \t\t6 \t\t6\n",
      "[ 3 ]\t\t4 \t\t3 \t\t3 \t\t7 \t\t9\n",
      "\n",
      "Rta:\tSalen del Sistema:  6.0 \tQuedan en Cola:  3.0\n"
     ]
    }
   ],
   "source": [
    "import matplotlib.pyplot as plt\n",
    "import math\n",
    "\n",
    "#Simula el comportamiento del sistema al inicio de cada iteracion\n",
    "def RunSimulation(Llegadas,Servicio,time,N):\n",
    "    Cola = [0.0] * N\n",
    "    Sistema = [0.0] * N\n",
    "    Salidas = [0.0] * N\n",
    "    TdispS = [time] * N\n",
    "    NServ = [0.0] * N\n",
    "    for i in range(N):\n",
    "        if(i==0):\n",
    "            Sistema[i] = Llegadas[i]\n",
    "            NServ[i] = math.ceil(TdispS[i]/float(Servicio[i]))\n",
    "        else:\n",
    "            if(TdispS[i-1]/float(Servicio[i-1]) < Llegadas[i-1]):\n",
    "                TdispS[i] = TdispS[i-1] - (NServ[i-1]*Servicio[i-1]) + time\n",
    "            NServ[i] = math.ceil(TdispS[i]/float(Servicio[i]))\n",
    "            if(time/float(Servicio[i-1]) < Llegadas[i-1] + Cola[i-1]):\n",
    "                Cola[i] = Llegadas[i-1] + Cola[i-1] - NServ[i-1]\n",
    "            Sistema[i] = Cola[i] + Llegadas[i]\n",
    "            if(time/float(Servicio[i-1]) > Llegadas[i-1]+Cola[i-1]):\n",
    "                Salidas[i] = Salidas[i-1] + Llegadas[i-1] + Cola[i-1]\n",
    "            else:\n",
    "                if(TdispS[i]==time):\n",
    "                    Salidas[i] = Salidas[i-1] + NServ[i-1]\n",
    "                else:\n",
    "                    Salidas[i] = Salidas[i-1] + NServ[i-1] - 1\n",
    "    Simulacion = [Llegadas,NServ,Cola,Sistema,Salidas]\n",
    "    return Simulacion\n",
    "\n",
    "#Muestra las tablas con la informacion de cada iteracion de la simulacion\n",
    "def infoSimulacion(Simulacion):\n",
    "    Llegadas = Simulacion[0]\n",
    "    Servicio = Simulacion[1]\n",
    "    Cola = Simulacion[2]\n",
    "    Sistema = Simulacion[3]\n",
    "    Salidas = Simulacion[4]\n",
    "    print \"\\nINFORMACION SIMULADA\"\n",
    "    print \"Iteracion\\tLlegadas\\tServicio\\tCola\\t\\tSistema\\t\\tSalidas\"\n",
    "    for i in range(len(Llegadas)):\n",
    "        print \"[\",i,\"]\\t\\t\",int(Llegadas[i]),\"\\t\\t\",int(Servicio[i]),\"\\t\\t\",int(Cola[i]),\"\\t\\t\",int(Sistema[i]),\"\\t\\t\",int(Salidas[i])\n",
    "    respuesta = [Salidas[len(Salidas)-2],Cola[len(Cola)-1]]\n",
    "    return respuesta\n",
    "\n",
    "def main():  \n",
    "    ly = float(input(\"Tasa de llegada = \"))\n",
    "    #ly = 4 #Tasa Llegada (Clientes x Intervalo de Tiempo)\n",
    "    miu = float(input(\"Tasa de servicio = \"))\n",
    "    #miu = 3 #Tasa Servicio (Clientes x Intervalo de Tiempo)\n",
    "    time = float(input(\"Intervalo De Tiempo = \"))\n",
    "    #time = 60 #Intervalo de Tiempo (Minutos)\n",
    "    t = int(input(\"Iteraciones = \"))\n",
    "    #t = 2 #Iteraciones \n",
    "\n",
    "    N = t+2\n",
    "    Llegadas = [ly] * N\n",
    "    Servicio = [time/float(miu)] * N\n",
    "    \n",
    "    Simulacion = RunSimulation(Llegadas,Servicio,time,N)\n",
    "    respuesta = infoSimulacion(Simulacion)\n",
    "    \n",
    "    print \"\\nRta:\\tSalen del Sistema: \",respuesta[0],\"\\tQuedan en Cola: \",respuesta[1]\n",
    "\n",
    "main()"
   ]
  },
  {
   "cell_type": "code",
   "execution_count": null,
   "metadata": {
    "collapsed": true
   },
   "outputs": [],
   "source": []
  }
 ],
 "metadata": {
  "kernelspec": {
   "display_name": "Python 2",
   "language": "python",
   "name": "python2"
  },
  "language_info": {
   "codemirror_mode": {
    "name": "ipython",
    "version": 2
   },
   "file_extension": ".py",
   "mimetype": "text/x-python",
   "name": "python",
   "nbconvert_exporter": "python",
   "pygments_lexer": "ipython2",
   "version": "2.7.11"
  }
 },
 "nbformat": 4,
 "nbformat_minor": 0
}
